{
 "cells": [
  {
   "cell_type": "code",
   "execution_count": 1,
   "metadata": {},
   "outputs": [],
   "source": [
    "import requests"
   ]
  },
  {
   "cell_type": "code",
   "execution_count": 2,
   "metadata": {},
   "outputs": [],
   "source": [
    "api_host = 'http://0.0.0.0:8003/'\n",
    "type_rq = 'predict'"
   ]
  },
  {
   "cell_type": "code",
   "execution_count": 3,
   "metadata": {},
   "outputs": [],
   "source": [
    "input_data = {\n",
    "        'mean_radius': 18.94,\n",
    "        'mean_texture': 21.31,\n",
    "        'mean_perimeter': 123.6,\n",
    "        'mean_area': 1130.0,\n",
    "        'mean_smoothness': 0.09009,\n",
    "        'mean_compactness': 0.1029,\n",
    "        'mean_concavity': 0.108,\n",
    "        'mean_concave_points': 0.07951,\n",
    "        'mean_symmetry': 0.1582,\n",
    "        'mean_fractal_dimension': 0.05461,\n",
    "        'radius_error': 0.7888,\n",
    "        'texture_error': 0.7975,\n",
    "        'perimeter_error': 5.486,\n",
    "        'area_error': 96.05,\n",
    "        'smoothness_error': 0.004444,\n",
    "        'compactness_error': 0.01652,\n",
    "        'concavity_error': 0.02269,\n",
    "        'concave_points_error': 0.0137,\n",
    "        'symmetry_error': 0.01386,\n",
    "        'fractal_dimension_error': 0.001698,\n",
    "        'worst_radius': 24.86,\n",
    "        'worst_texture': 26.58,\n",
    "        'worst_perimeter': 165.9,\n",
    "        'worst_area': 1866.0,\n",
    "        'worst_smoothness': 0.1193,\n",
    "        'worst_compactness': 0.2336,\n",
    "        'worst_concavity': 0.2687,\n",
    "        'worst_concave_points': 0.1789,\n",
    "        'worst_symmetry': 0.2551,\n",
    "        'worst_fractal_dimension': 0.06589\n",
    "        }"
   ]
  },
  {
   "cell_type": "code",
   "execution_count": 4,
   "metadata": {},
   "outputs": [],
   "source": [
    "response = requests.post(api_host+type_rq, json=input_data)"
   ]
  },
  {
   "cell_type": "code",
   "execution_count": 5,
   "metadata": {},
   "outputs": [
    {
     "name": "stdout",
     "output_type": "stream",
     "text": [
      "{'prediction_Id': '46400d9d-5178-41a0-a85f-9ffc91d80e92', 'predict': 0, 'predict_prob': 0.0031117206298359678}\n"
     ]
    }
   ],
   "source": [
    "data = response.json()     \n",
    "print(data)"
   ]
  },
  {
   "cell_type": "code",
   "execution_count": null,
   "metadata": {},
   "outputs": [],
   "source": []
  }
 ],
 "metadata": {
  "kernelspec": {
   "display_name": "cp_py310",
   "language": "python",
   "name": "python3"
  },
  "language_info": {
   "codemirror_mode": {
    "name": "ipython",
    "version": 3
   },
   "file_extension": ".py",
   "mimetype": "text/x-python",
   "name": "python",
   "nbconvert_exporter": "python",
   "pygments_lexer": "ipython3",
   "version": "3.10.4"
  },
  "orig_nbformat": 4,
  "vscode": {
   "interpreter": {
    "hash": "3fe75d6b0829c0f897380727dafe72291baafc5979f620e4e277041bcdec6633"
   }
  }
 },
 "nbformat": 4,
 "nbformat_minor": 2
}
